{
 "cells": [
  {
   "cell_type": "markdown",
   "id": "e5ebe443-232a-4fca-841a-b4362f1b35fc",
   "metadata": {},
   "source": [
    "<img src=\"https://webassets.unt.edu/assets/branding/unt-stacked-logo.svg\" alt=\"UNT | University of North Texas\" class=\"desktop-logo\" width=\"300\" height=\"500\">"
   ]
  },
  {
   "cell_type": "markdown",
   "id": "0834f8ce-b6fb-4088-b70a-135ae53b1c12",
   "metadata": {},
   "source": [
    "<div style=\"text-align: right\"><strong>Young Yu</strong></div>\n",
    "<div style=\"text-align: right\"><strong>Date</strong></div>\n",
    "<div style=\"text-align: right\"><strong>Student Id</strong></div>\n",
    "<div style=\"text-align: right\"><strong>ADTA 5240</strong></div>"
   ]
  },
  {
   "cell_type": "markdown",
   "id": "120904bb-9042-44d7-92fd-a036b0138766",
   "metadata": {},
   "source": [
    "**References:** <br>\n",
    "<br>\n",
    "*Citations*\n",
    "- [Regression Models with multiple target variables](https://towardsdatascience.com/regression-models-with-multiple-target-variables-8baa75aacd)\n",
    "- \n",
    "*Images*\n",
    "- [Data Science Life Cycle](https://medium.com/@skeredy/taking-the-first-step-understanding-the-6-stages-of-the-data-science-life-cycle-141ee6296ce2)\n",
    "<!-- A lot of the data visual structuring was borrowed Mardiat-Iman, so these lines stay. Converting the visuals to functions are my own, but the structuring was inspired by Mardiat Iman's contributions on Github --> \n",
    "- [Project Inspiration: Github](https://github.com/jupyter-nass/awesome-notebooks)\n",
    "- [Visualizations: Mardiat-Iman](https://www.linkedin.com/in/mardiat-iman-ibrahim-imam-726027262)\n"
   ]
  },
  {
   "cell_type": "markdown",
   "id": "c7004718",
   "metadata": {},
   "source": [
    "# **Risk Modeling**\n",
    "**Background**<br>\n",
    "<br>\n",
    "<br>\n",
    "**Business Proposal**   \n",
    "\n",
    "* **The goal of problem** "
   ]
  },
  {
   "cell_type": "markdown",
   "id": "8eb1d472-93da-4b0a-873d-646599912a70",
   "metadata": {},
   "source": [
    "## About the Dataset"
   ]
  },
  {
   "cell_type": "markdown",
   "id": "8675728e",
   "metadata": {},
   "source": [
    "##### Target Variables\n",
    "##### Predictors"
   ]
  },
  {
   "cell_type": "markdown",
   "id": "9fede0ad",
   "metadata": {},
   "source": [
    "### Data Dictionary\n",
    "|      Column      |   DataType   | DataClass |                             Desc                              |\n",
    "|:----------------:|:------------:|:---------:|:-------------------------------------------------------------:|\n",
    "|   ***TagName***  | Categorical  | Nominal   | Variable name |\n",
    "|     ***Date***   |   Date/Time  |   N/A     | Date when data was recorded |\n",
    "|    ***Value***   |  Numerical   | Continuous| Value of the data point |\n",
    "|   ***vValue***   |  Numerical   | Continuous|                         |\n",
    "|   ***MinRaw***   |  Numerical   | Continuous| Minimum value for the tag |\n",
    "|   ***MaxRaw***   |  Numerical   | Continuous| Maximum value for the tag |\n",
    "|    ***MinEU***   |  Numerical   | Continuous| Minimum value for the engineering unit value |\n",
    "|    ***MaxEU***   |  Numerical   | Continuous| Maximum value for the engineering unit value |\n",
    "|     ***Unit***   | Categorical  | Nominal   | Unit of measurement |\n",
    "|   ***Quality***  |  Numerical   | Continuous| Quality of the data during read |\n",
    "|***QualityDetail***| Categorical | Ordinal   | Key value for a list of codes |\n",
    "|***QualityString***| Categorical | Ordinal   | Description of QualityDetail |\n",
    "|***StartDateTime***|  Date/Time  |   N/A     | Date and time of value was last updated |\n"
   ]
  },
  {
   "cell_type": "markdown",
   "id": "4c709c8d",
   "metadata": {},
   "source": [
    "## Methodology Section\n",
    "<br>\n",
    "Rank\tOffense\n",
    "1\tTRAFFIC VIOLATION - HAZARDOUS\n",
    "2\tANIMAL OFFENSES\n",
    "3\tMISCELLANEOUS\n",
    "4\tDRIVING UNDER THE INFLUENCE\n",
    "5\tFAMILY OFFENSES, NONVIOLENT\n",
    "6\tCOUNTERFEITING / FORGERY\n",
    "7\tEMBEZZLEMENT\n",
    "8\tFRAUD OFFENSES\n",
    "9\tALL OTHER OFFENSES\n",
    "10\tDRUG/ NARCOTIC VIOLATIONS\n",
    "11\tWEAPON LAW VIOLATIONS\n",
    "12\tMOTOR VEHICLE THEFT\n",
    "13\tBURGLARY/ BREAKING & ENTERING\n",
    "14\tLARCENY/ THEFT OFFENSES\n",
    "15\tDESTRUCTION/ DAMAGE/ VANDALISM OF PROPERTY\n",
    "16\tARSON\n",
    "17\tROBBERY\n",
    "18\tASSAULT OFFENSES\n",
    "19\tKIDNAPPING/ ABDUCTION\n",
    "20\tHOMICIDE OFFENSES"
   ]
  },
  {
   "cell_type": "markdown",
   "id": "da04db99",
   "metadata": {},
   "source": [
    "## Model Section"
   ]
  },
  {
   "cell_type": "markdown",
   "id": "24241d78",
   "metadata": {},
   "source": [
    "##### K-Nearest Neighbor <br>"
   ]
  },
  {
   "cell_type": "markdown",
   "id": "0c24a570",
   "metadata": {},
   "source": [
    "##### Decision Tree <br>"
   ]
  },
  {
   "cell_type": "markdown",
   "id": "27ed9556",
   "metadata": {},
   "source": [
    "##### Support Vector Regression <br>"
   ]
  },
  {
   "cell_type": "markdown",
   "id": "8ba6c3bb-af8f-420b-a4d5-1473aea3289b",
   "metadata": {},
   "source": [
    "## Code Section"
   ]
  },
  {
   "cell_type": "markdown",
   "id": "1a8ae7ba",
   "metadata": {},
   "source": [
    "### About the Code"
   ]
  },
  {
   "cell_type": "code",
   "execution_count": null,
   "id": "77e2cc0f",
   "metadata": {},
   "outputs": [],
   "source": [
    "# Imports\n",
    "import numpy as np\n",
    "import pandas as pd\n",
    "import seaborn as sns\n",
    "import folium\n",
    "import matplotlib.pyplot as plt\n",
    "from sklearn.cluster import DBSCAN, KMeans\n",
    "from sklearn.preprocessing import StandardScaler\n",
    "from sklearn.linear_model import LogisticRegression\n",
    "from sklearn.model_selection import train_test_split\n",
    "from sklearn.decomposition import PCA\n",
    "from sklearn.metrics import classification_report, confusion_matrix, mean_squared_error, r2_score\n",
    "from sklearn.neighbors import KNeighborsClassifier, KNeighborsRegressor\n",
    "from joblib import dump, load"
   ]
  },
  {
   "cell_type": "markdown",
   "id": "03e607e1",
   "metadata": {},
   "source": [
    "# PCA"
   ]
  },
  {
   "cell_type": "code",
   "execution_count": null,
   "id": "392acd80",
   "metadata": {},
   "outputs": [],
   "source": [
    "# Assign the data filename to a variable\n",
    "file = 'data/Output_Final.csv'"
   ]
  },
  {
   "cell_type": "code",
   "execution_count": null,
   "id": "54a4c72e",
   "metadata": {},
   "outputs": [],
   "source": [
    "def filetype(file):\n",
    "    \"\"\"\n",
    "    This function is for loading small datasets. The file type must be a .csv\n",
    "    or one of the listed Excel formats.\n",
    "\n",
    "    Parameters:\n",
    "    - file (str): The file path to the data.\n",
    "\n",
    "    Example: \n",
    "    df = df.read_csv(file, data parse_date=['datetime'], index_col='datetime')\n",
    "    \"\"\"\n",
    "    try:\n",
    "        if file.endswith('.csv'):\n",
    "            df = pd.read_csv(file, skiprows=lambda x: x % 2 != 0)\n",
    "            return df  \n",
    "        elif file.endswith(('.xls', '.xlsx', '.odf', '.ods', '.odt')):  \n",
    "            df = pd.read_excel(file)\n",
    "            return df  \n",
    "        else:\n",
    "            print(f'Error: The file {file} has an unsupported format.')\n",
    "            return None  \n",
    "    except Exception as e: \n",
    "        print(f'An error occurred: {e}')\n",
    "        return None\n",
    "    \n",
    "\n",
    "df = filetype(file) "
   ]
  },
  {
   "cell_type": "code",
   "execution_count": null,
   "id": "d79010eb",
   "metadata": {},
   "outputs": [],
   "source": [
    "# Copies the original dataframe into a copy leaving the original unaltered.\n",
    "df_copy = df.copy()"
   ]
  },
  {
   "cell_type": "code",
   "execution_count": null,
   "id": "8e0318c8",
   "metadata": {},
   "outputs": [],
   "source": [
    "object_columns = df_copy.select_dtypes(include=['object']).columns\n",
    "df_transform = df_copy.drop(object_columns, axis=1) \n",
    "# msno.matrix(df_transform.sample(250))\n",
    "# df_transform.info()"
   ]
  },
  {
   "cell_type": "code",
   "execution_count": null,
   "id": "d2431257",
   "metadata": {},
   "outputs": [],
   "source": [
    "cols = [\n",
    "    'Reporting Area', 'Responding Officer #1  Badge No', 'Responding Officer #2 Badge No',\n",
    "        'Reporting Officer Badge No','X Coordinate', 'Y Cordinate'\n",
    "        ]\n",
    "df_transform.drop(cols, axis=1, inplace=True)\n",
    "# msno.matrix(df_transform.sample(250))\n",
    "df_transform.dropna()"
   ]
  },
  {
   "cell_type": "code",
   "execution_count": null,
   "id": "171e8fc9",
   "metadata": {},
   "outputs": [],
   "source": [
    "X = df_transform\n",
    "n_components = 10"
   ]
  },
  {
   "cell_type": "code",
   "execution_count": null,
   "id": "81dc4223",
   "metadata": {},
   "outputs": [],
   "source": [
    "def pca(X, n_components=None):\n",
    "    pca = PCA(n_components=n_components)\n",
    "    pca.fit(X)\n",
    "    X_pca = pca.transform(X)\n",
    "    \n",
    "    columns = [f'PC{i+1}' for i in range(X_pca.shape[1])]\n",
    "    pca_result = pd.DataFrame(X_pca, columns=columns)\n",
    "  \n",
    "    pca_summary = pd.DataFrame({\n",
    "        'Standard Deviation': np.sqrt(pca.explained_variance_),\n",
    "        'Proportion of Variance': pca.explained_variance_ratio_,\n",
    "        'Cumulative Proportion': np.cumsum(pca.explained_variance_ratio_)\n",
    "    }).transpose()\n",
    "    pca_summary.columns = columns  \n",
    "    pca_summary = pca_summary.round(4) \n",
    "    \n",
    "    plt.figure(figsize=(10, 6))\n",
    "    plt.bar(columns, pca.explained_variance_ratio_, alpha=0.7, align='center',\n",
    "            label='Individual explained variance')\n",
    "    plt.step(columns, pca.explained_variance_ratio_.cumsum(), where='mid',\n",
    "             label='Cumulative explained variance')\n",
    "    plt.ylabel('Explained variance ratio')\n",
    "    plt.xlabel('Principal component index')\n",
    "    plt.xticks(rotation=45)  \n",
    "    plt.legend(loc='best')\n",
    "    plt.tight_layout()\n",
    "    plt.show()\n",
    "    \n",
    "    return pca_result, pca_summary, pca\n",
    "\n",
    "pca(X, n_components=10)"
   ]
  },
  {
   "cell_type": "markdown",
   "id": "da9a6508",
   "metadata": {},
   "source": [
    "# Geographical Plot w/ Filtering\n"
   ]
  },
  {
   "cell_type": "code",
   "execution_count": null,
   "id": "aacd8821",
   "metadata": {},
   "outputs": [],
   "source": [
    "# Assign the data filename to a variable\n",
    "data = 'data/Output_2023.csv'"
   ]
  },
  {
   "cell_type": "code",
   "execution_count": null,
   "id": "9480911b",
   "metadata": {},
   "outputs": [],
   "source": [
    "# recalling the previous function\n",
    "df = filetype(data) "
   ]
  },
  {
   "cell_type": "code",
   "execution_count": null,
   "id": "717f1184",
   "metadata": {},
   "outputs": [],
   "source": [
    "df_copy = df.copy()"
   ]
  },
  {
   "cell_type": "code",
   "execution_count": null,
   "id": "a181e393",
   "metadata": {},
   "outputs": [],
   "source": [
    "df = df_copy\n",
    "x = 'x'\n",
    "y = 'y'\n",
    "categories = ['incident_type'] \n",
    "color_options = [\"red\", \"blue\"]"
   ]
  },
  {
   "cell_type": "code",
   "execution_count": null,
   "id": "aead3a20",
   "metadata": {},
   "outputs": [],
   "source": [
    "def geo_plot(df, x, y, categories, color_options):\n",
    "    \"\"\"\n",
    "    Creates a Dash app with dynamic dropdowns for filtering a map visualization.\n",
    "    \n",
    "    Parameters:\n",
    "    - df: DataFrame containing the data to be visualized.\n",
    "    - x: String, the column name in df for x-axis values.\n",
    "    - y: String, the column name in df for y-axis values.\n",
    "    - categories: List of strings, the column names in df to create filters for. The first category listed will be the legend.\n",
    "    - color_options: List of strings, colors for the plot.\n",
    "    \"\"\"\n",
    "    \n",
    "    if not isinstance(df, pd.DataFrame):\n",
    "        raise ValueError(\"df must be a pandas DataFrame\")\n",
    "    \n",
    "    if not all(isinstance(item, str) for item in categories):\n",
    "        raise ValueError(\"All categories must be string names of the dataframe columns\")\n",
    "    \n",
    "    if not (isinstance(color_options, list) and len(color_options) >= 1):\n",
    "        raise ValueError(\"color_options must be a list of color strings with at least one color\")\n",
    "    \n",
    "    app = Dash(__name__)\n",
    "\n",
    "    # Dynamic generation of dropdowns\n",
    "    dropdowns = []\n",
    "    for idx, category in enumerate(categories, start=0):\n",
    "        unique_values = df[category].dropna().unique()\n",
    "        options = [{'label': 'No Filter', 'value': 'No Filter'}] + \\\n",
    "                  [{'label': value, 'value': value} for value in unique_values]\n",
    "        dropdown = dcc.Dropdown(\n",
    "            id=f'category{idx}-dropdown',\n",
    "            options=options,\n",
    "            value='No Filter',  # Default value\n",
    "        )\n",
    "        dropdowns.append(dropdown)\n",
    "    \n",
    "    app.layout = html.Div(dropdowns + [dcc.Graph(id='data-map')])\n",
    "\n",
    "    @app.callback(\n",
    "        Output('data-map', 'figure'),\n",
    "        [Input(f'category{idx}-dropdown', 'value') for idx, _ in enumerate(categories)]\n",
    "    )\n",
    "    def update_map(*selected_values):\n",
    "        filtered_df = df\n",
    "        for category, selected_value in zip(categories, selected_values):\n",
    "            if selected_value != 'No Filter':\n",
    "                filtered_df = filtered_df[filtered_df[category] == selected_value]\n",
    "                \n",
    "        if filtered_df.empty:\n",
    "            raise ValueError(\"Filtered dataset is empty. Adjust filter selections.\")\n",
    "        \n",
    "        # Use the first category for coloring\n",
    "        color_category = categories[0]\n",
    "        fig = px.scatter_mapbox(filtered_df, lat=x, lon=y,\n",
    "                                color=color_category,\n",
    "                                zoom=3, height=800)\n",
    "        fig.update_layout(\n",
    "            mapbox_style=\"white-bg\",\n",
    "            mapbox_center={\"lon\": -96.7970, \"lat\": 32.7767},\n",
    "            mapbox_zoom=9.5,\n",
    "            mapbox_layers=[{\n",
    "                \"below\": 'traces',\n",
    "                \"sourcetype\": \"raster\",\n",
    "                \"sourceattribution\": \"United States Geological Survey\",\n",
    "                \"source\": [\n",
    "                    \"https://basemap.nationalmap.gov/arcgis/rest/services/USGSImageryOnly/MapServer/tile/{z}/{y}/{x}\"\n",
    "                ]\n",
    "            }],\n",
    "            margin={\"r\":0,\"t\":0,\"l\":0,\"b\":0}\n",
    "        )\n",
    "        return fig\n",
    "\n",
    "    return app\n",
    "\n",
    "if __name__ == '__main__':\n",
    "    app = geo_plot(df, 'x', 'y', categories, color_options)\n",
    "    app.run_server(debug=True)"
   ]
  },
  {
   "cell_type": "markdown",
   "id": "a417807f",
   "metadata": {},
   "source": [
    "# KMEANS - Clustering"
   ]
  },
  {
   "cell_type": "code",
   "execution_count": null,
   "id": "a8052500",
   "metadata": {},
   "outputs": [],
   "source": [
    "# Assign the data filename to a variable\n",
    "file = 'data/Output_2023.csv'"
   ]
  },
  {
   "cell_type": "code",
   "execution_count": null,
   "id": "d893e433",
   "metadata": {},
   "outputs": [],
   "source": [
    "\n",
    "df = filetype(file) "
   ]
  },
  {
   "cell_type": "code",
   "execution_count": null,
   "id": "f7304e24",
   "metadata": {},
   "outputs": [],
   "source": [
    "df_copy = df.copy()\n"
   ]
  },
  {
   "cell_type": "code",
   "execution_count": null,
   "id": "2de77447",
   "metadata": {},
   "outputs": [],
   "source": [
    "# Inputs\n",
    "df = df_copy\n",
    "features = ['severity']\n"
   ]
  },
  {
   "cell_type": "code",
   "execution_count": null,
   "id": "9e8a7caa",
   "metadata": {},
   "outputs": [],
   "source": [
    "# Input\n",
    "df = df_copy\n",
    "x_col = 'x'\n",
    "y_col = 'y'\n",
    "title = 'Clusters'\n",
    "fig_path = f'visuals/{title}.png'\n",
    "n_clusters_range = (1, 30)\n",
    "n_init = 15\n",
    "random_state = None"
   ]
  },
  {
   "cell_type": "code",
   "execution_count": null,
   "id": "3142b08a",
   "metadata": {},
   "outputs": [],
   "source": [
    "def kmeans_plot(df, x_col, y_col, title, fig_path, n_clusters_range=(1, 10), n_init=10, random_state=42):\n",
    "    \n",
    "    X = df[[x_col, y_col]]\n",
    "    \n",
    "    wcss = []\n",
    "    for i in range(*n_clusters_range):\n",
    "        kmeans = KMeans(n_clusters=i, n_init=n_init, random_state=random_state)\n",
    "        kmeans.fit(X)\n",
    "        wcss.append(kmeans.inertia_)\n",
    "    \n",
    "    plt.figure(figsize=(10, 5))\n",
    "    plt.plot(range(*n_clusters_range), wcss)\n",
    "    plt.xlabel('Number of Clusters')\n",
    "    plt.ylabel('WCSS')\n",
    "    plt.title('Elbow Curve')\n",
    "    plt.show()\n",
    "    \n",
    "    try:\n",
    "        num_clusters = int(input(\"Enter the number of clusters based on the elbow curve: \"))\n",
    "    except ValueError:\n",
    "        print(\"Invalid number. Using the default 3 clusters.\")\n",
    "        num_clusters = 3\n",
    "    \n",
    "    kmeans = KMeans(n_clusters=num_clusters, n_init=n_init, random_state=random_state)\n",
    "    df['cluster_label'] = kmeans.fit_predict(X)\n",
    "\n",
    "    centers = kmeans.cluster_centers_\n",
    "    \n",
    "    fig = plt.figure(figsize=(10, 6))\n",
    "    sns.scatterplot(data=df, x=x_col, y=y_col, hue='cluster_label', palette='viridis', s=50, alpha=0.5, edgecolor='black')\n",
    "    plt.scatter(centers[:, 0], centers[:, 1], c='red', s=200, alpha=0.5, marker='X', label='Centers')\n",
    "    plt.title(title)\n",
    "    plt.xlabel(x_col)\n",
    "    plt.ylabel(y_col)\n",
    "    plt.legend(title='Cluster')\n",
    "    plt.grid(True)\n",
    "    \n",
    "    fig.savefig(fig_path)\n",
    "    plt.show()\n",
    "\n",
    "kmeans_plot(df, x_col, y_col, title, fig_path, n_clusters_range, n_init, random_state)"
   ]
  },
  {
   "cell_type": "code",
   "execution_count": null,
   "id": "f3ff24795d0e5e07",
   "metadata": {
    "collapsed": false
   },
   "outputs": [],
   "source": [
    "dump(kmeans_plot, 'kmeans_model.joblib')"
   ]
  },
  {
   "cell_type": "markdown",
   "id": "f1a62c46",
   "metadata": {},
   "source": [
    "# DBSCAN - Clustering"
   ]
  },
  {
   "cell_type": "code",
   "execution_count": null,
   "id": "d407c15c",
   "metadata": {},
   "outputs": [],
   "source": [
    "# Assign the data filename to a variable\n",
    "file = 'data/Output_Final.csv'"
   ]
  },
  {
   "cell_type": "code",
   "execution_count": null,
   "id": "3e8bf175",
   "metadata": {},
   "outputs": [],
   "source": [
    "df = filetype(file) "
   ]
  },
  {
   "cell_type": "code",
   "execution_count": null,
   "id": "4bbd05ff",
   "metadata": {},
   "outputs": [],
   "source": [
    "df_copy = df.copy()"
   ]
  },
  {
   "cell_type": "code",
   "execution_count": null,
   "id": "30c7741e",
   "metadata": {},
   "outputs": [],
   "source": [
    "# Inputs\n",
    "df = df_copy\n",
    "features = ['severity', 'x', 'y']\n"
   ]
  },
  {
   "cell_type": "code",
   "execution_count": null,
   "id": "8f96d1ca",
   "metadata": {},
   "outputs": [],
   "source": [
    "def numeric_data(df, features):\n",
    "    \"\"\"\n",
    "    This function drops categorical data for quick analysis of the \n",
    "    selected numerical data, then scales the data into a new data frame.\n",
    "\n",
    "    Parameters:\n",
    "    - df (pandas.DataFrame): The input DataFrame.\n",
    "    - features (list): The selected numeric columns from a list.\n",
    "\n",
    "    Returns:\n",
    "    - A processed DataFrame with scaled numeric features.\n",
    "    \"\"\"\n",
    "    # Drop columns with object data type\n",
    "    object_columns = df.select_dtypes(include=['object']).columns\n",
    "    df_clean = df.drop(object_columns, axis=1)\n",
    "    \n",
    "    # Drop rows with NaN values\n",
    "    df_clean = df_clean.dropna()\n",
    "    \n",
    "    # Scale features\n",
    "    scaler = StandardScaler()\n",
    "    df_clean[features] = scaler.fit_transform(df_clean[features])\n",
    "    \n",
    "    return df_clean\n",
    "\n",
    "df_transform = numeric_data(df_copy, features)"
   ]
  },
  {
   "cell_type": "code",
   "execution_count": null,
   "id": "e5c06cf6252a6b1f",
   "metadata": {
    "collapsed": false
   },
   "outputs": [],
   "source": [
    "df = df_copy\n",
    "epsilon = 0.1\n",
    "min_samples = 10"
   ]
  },
  {
   "cell_type": "code",
   "execution_count": null,
   "id": "9ab055892c2d5175",
   "metadata": {
    "collapsed": false
   },
   "outputs": [],
   "source": [
    "def dbscan(df, epsilon=0.01, min_samples=2):\n",
    "    \"\"\"\n",
    "    Perform DBSCAN clustering on geographic data and generate a folium map to visualize the clusters.\n",
    "    \n",
    "    Args:\n",
    "    locations (DataFrame): DataFrame containing 'x' and 'y' columns for latitude and longitude.\n",
    "    epsilon (float): The maximum distance between two samples for one to be considered as in the neighborhood of the other.\n",
    "    min_samples (int): The number of samples in a neighborhood for a point to be considered as a core point.\n",
    "    \n",
    "    Returns:\n",
    "    folium.Map: A folium map with clustered points visualized.\n",
    "    \"\"\"\n",
    "    # Convert geographic coordinates from degrees to radians for DBSCAN\n",
    "    radians = np.radians(df[['x', 'y']])\n",
    "    # Create a DBSCAN clusterer\n",
    "    db = DBSCAN(eps=epsilon, min_samples=min_samples, metric='haversine')\n",
    "    # Fit and predict clusters\n",
    "    df['cluster'] = db.fit_predict(radians)\n",
    "\n",
    "    # Create a map centered around the average location\n",
    "    map_center = [df['x'].mean(), df['y'].mean()]\n",
    "    crime_map = folium.Map(location=map_center, zoom_start=11.5)\n",
    "\n",
    "    # Add points to the map\n",
    "    for _, row in df.iterrows():\n",
    "        folium.CircleMarker(\n",
    "            location=(row['x'], row['y']),\n",
    "            radius=.01,\n",
    "            color=['blue', 'red', 'green', 'purple', 'orange'][row['cluster'] % 5],\n",
    "            fill=True,\n",
    "            fill_color=['blue', 'red', 'green', 'purple', 'orange'][row['cluster'] % 5],\n",
    "            popup=f'Cluster: {row[\"cluster\"]}'\n",
    "        ).add_to(crime_map)\n",
    "\n",
    "    return crime_map\n",
    "\n",
    "dbscan(df, epsilon, min_samples)"
   ]
  },
  {
   "cell_type": "code",
   "outputs": [],
   "source": [
    "dump(dbscan, 'dbscan_model.joblib')"
   ],
   "metadata": {
    "collapsed": false
   },
   "id": "5b8136d4c6632dda",
   "execution_count": null
  },
  {
   "cell_type": "code",
   "execution_count": null,
   "id": "0a9e5eea",
   "metadata": {},
   "outputs": [],
   "source": [
    "# Inputs\n",
    "\n",
    "df = df_transform\n",
    "x_col = 'x'\n",
    "y_col = 'y'\n",
    "eps = 0.2\n",
    "min_samples = 6\n",
    "title = 'DBSCAN'\n",
    "fig_path = f'visuals/{title}.png'\n",
    "point_size = 50\n",
    "alpha = 0.3"
   ]
  },
  {
   "cell_type": "code",
   "execution_count": null,
   "id": "c30bfbf2",
   "metadata": {},
   "outputs": [],
   "source": [
    "def dbscan(df, x_col, y_col, eps, min_samples, title, fig_path, point_size, alpha):\n",
    "    dbscan = DBSCAN(eps=eps, min_samples=min_samples)\n",
    "    clusters = dbscan.fit_predict(df[[x_col, y_col]])\n",
    "    df.loc[:,'cluster'] = clusters\n",
    "\n",
    "    plt.figure(figsize=(10, 6))\n",
    "    sns.scatterplot(x=df[x_col], y=df[y_col], hue=df['cluster'], palette='viridis', edgecolor='k', s=point_size, alpha=alpha, legend='full')\n",
    "    plt.title(title)\n",
    "    plt.xlabel(x_col)\n",
    "    plt.ylabel(y_col)\n",
    "    \n",
    "    noise_points = df[df['cluster'] == -1]\n",
    "    if not noise_points.empty:\n",
    "        plt.scatter(noise_points[x_col], noise_points[y_col], color='red', marker='x', s=point_size, label='Noise')\n",
    "    \n",
    "    plt.legend(title='Cluster ID')\n",
    "    \n",
    "    if fig_path:\n",
    "        plt.savefig(fig_path)\n",
    "    \n",
    "    plt.show()\n",
    "\n",
    "dbscan(df, x_col, y_col, eps, min_samples, title, fig_path, point_size, alpha)"
   ]
  },
  {
   "cell_type": "markdown",
   "id": "039845b9-66d1-440f-803e-5d108b0d8ecc",
   "metadata": {},
   "source": [
    "# KNN Classification & Regression"
   ]
  },
  {
   "cell_type": "code",
   "execution_count": 268,
   "id": "4cc9e255",
   "metadata": {
    "ExecuteTime": {
     "end_time": "2024-04-13T03:01:17.003601Z",
     "start_time": "2024-04-13T03:01:16.998050Z"
    }
   },
   "outputs": [],
   "source": [
    "# Assign the data filename to a variable\n",
    "file = 'data/Output_Final.csv'"
   ]
  },
  {
   "cell_type": "code",
   "execution_count": 269,
   "id": "6f8f9ad2",
   "metadata": {
    "ExecuteTime": {
     "end_time": "2024-04-13T03:01:18.083043Z",
     "start_time": "2024-04-13T03:01:17.539097Z"
    }
   },
   "outputs": [],
   "source": [
    "df = filetype(file) "
   ]
  },
  {
   "cell_type": "code",
   "execution_count": 270,
   "id": "49b1f0ed",
   "metadata": {
    "ExecuteTime": {
     "end_time": "2024-04-13T03:01:18.116569Z",
     "start_time": "2024-04-13T03:01:18.086160Z"
    }
   },
   "outputs": [],
   "source": [
    "df_copy = df.copy()"
   ]
  },
  {
   "cell_type": "code",
   "outputs": [],
   "source": [
    "df = df_copy"
   ],
   "metadata": {
    "collapsed": false,
    "ExecuteTime": {
     "end_time": "2024-04-13T03:01:18.215815Z",
     "start_time": "2024-04-13T03:01:18.209172Z"
    }
   },
   "id": "4c59e7633bbf5b9a",
   "execution_count": 271
  },
  {
   "cell_type": "code",
   "outputs": [],
   "source": [
    "df_copy['high_risk'] = (df['severity'] > 14).astype(bool) \n",
    "df_copy.drop('Crime Category', axis=1, inplace=True)"
   ],
   "metadata": {
    "collapsed": false,
    "ExecuteTime": {
     "end_time": "2024-04-13T03:01:18.512567Z",
     "start_time": "2024-04-13T03:01:18.478851Z"
    }
   },
   "id": "36ea209a53ed466a",
   "execution_count": 272
  },
  {
   "cell_type": "code",
   "outputs": [],
   "source": [
    "df_copy.drop('Day of the Week', axis=1, inplace=True)"
   ],
   "metadata": {
    "collapsed": false,
    "ExecuteTime": {
     "end_time": "2024-04-13T03:01:18.791987Z",
     "start_time": "2024-04-13T03:01:18.764355Z"
    }
   },
   "id": "5559f4bd8f40d589",
   "execution_count": 273
  },
  {
   "cell_type": "code",
   "outputs": [],
   "source": [
    "df_copy.drop('Year of Incident', axis=1, inplace=True)"
   ],
   "metadata": {
    "collapsed": false,
    "ExecuteTime": {
     "end_time": "2024-04-13T03:01:18.999871Z",
     "start_time": "2024-04-13T03:01:18.979278Z"
    }
   },
   "id": "d57c083a3ca8d8cb",
   "execution_count": 274
  },
  {
   "cell_type": "code",
   "execution_count": 275,
   "id": "9ce47549",
   "metadata": {
    "ExecuteTime": {
     "end_time": "2024-04-13T03:01:19.417287Z",
     "start_time": "2024-04-13T03:01:19.229518Z"
    }
   },
   "outputs": [],
   "source": [
    "def process_data(df):\n",
    "    \"\"\"\n",
    "    This function converts categorical variables into dummy/indicator variables,\n",
    "    and drops rows with NaN values after encoding, then scales all thenumerical features. \n",
    "\n",
    "    Parameters:\n",
    "    - df(DataFrame): The input DataFrame.\n",
    "\n",
    "    Returns:\n",
    "    - A processed DataFrame with scaled numeric features and encoded categorical variables.\n",
    "    \"\"\"\n",
    "    # Convert categorical variables into dummy variables\n",
    "    df_dummies = pd.get_dummies(df, drop_first=True)\n",
    "\n",
    "    numeric_cols = df_dummies.select_dtypes(include=['float64', 'int64']).columns\n",
    "    \n",
    "    # Scale numeric features\n",
    "    scaler = StandardScaler()\n",
    "    df_dummies[numeric_cols] = scaler.fit_transform(df_dummies[numeric_cols])\n",
    "    \n",
    "    df_clean = df_dummies.dropna()\n",
    "\n",
    "    return df_clean\n",
    "\n",
    "df_transform = process_data(df_copy)"
   ]
  },
  {
   "cell_type": "code",
   "outputs": [],
   "source": [
    "# df_transform.drop('Unnamed: 0', axis=1, inplace=True)\n",
    "df_transform.drop('severity', axis=1, inplace=True)\n"
   ],
   "metadata": {
    "collapsed": false,
    "ExecuteTime": {
     "end_time": "2024-04-13T03:01:19.444166Z",
     "start_time": "2024-04-13T03:01:19.423808Z"
    }
   },
   "id": "8d669ae413ff25a2",
   "execution_count": 276
  },
  {
   "cell_type": "code",
   "outputs": [
    {
     "data": {
      "text/plain": "          Watch    Sector  District         x         y  high_risk  \\\n96126  0.123325  0.617997 -0.261545  0.952741 -1.220616      False   \n96127  0.123325  0.566495 -1.255380  0.766226 -0.929219      False   \n96128  0.123325  0.566495 -0.261545  0.699052 -1.280402      False   \n96129  0.123325  0.514994 -1.255380  0.267334 -1.076101      False   \n96130  0.123325  0.566495 -1.255380  0.406154 -0.700505      False   \n\n       LocType_Residential  Division_NORTH CENTRAL  Division_NORTHEAST  \\\n96126                False                   False               False   \n96127                False                   False               False   \n96128                False                   False               False   \n96129                False                   False               False   \n96130                False                   False               False   \n\n       Division_NORTHWEST  ...  Month_January  Month_July  Month_June  \\\n96126                True  ...          False       False       False   \n96127                True  ...          False       False       False   \n96128                True  ...          False       False       False   \n96129                True  ...          False       False       False   \n96130                True  ...          False       False       False   \n\n       Month_March  Month_May  Month_November  Month_October  Month_September  \\\n96126        False      False           False          False            False   \n96127        False      False           False          False            False   \n96128        False      False           False          False            False   \n96129        False      False           False          False            False   \n96130        False      False           False          False            False   \n\n       NIBRS Crime Against_PROPERTY  NIBRS Crime Against_SOCIETY  \n96126                          True                        False  \n96127                          True                        False  \n96128                          True                        False  \n96129                          True                        False  \n96130                          True                        False  \n\n[5 rows x 26 columns]",
      "text/html": "<div>\n<style scoped>\n    .dataframe tbody tr th:only-of-type {\n        vertical-align: middle;\n    }\n\n    .dataframe tbody tr th {\n        vertical-align: top;\n    }\n\n    .dataframe thead th {\n        text-align: right;\n    }\n</style>\n<table border=\"1\" class=\"dataframe\">\n  <thead>\n    <tr style=\"text-align: right;\">\n      <th></th>\n      <th>Watch</th>\n      <th>Sector</th>\n      <th>District</th>\n      <th>x</th>\n      <th>y</th>\n      <th>high_risk</th>\n      <th>LocType_Residential</th>\n      <th>Division_NORTH CENTRAL</th>\n      <th>Division_NORTHEAST</th>\n      <th>Division_NORTHWEST</th>\n      <th>...</th>\n      <th>Month_January</th>\n      <th>Month_July</th>\n      <th>Month_June</th>\n      <th>Month_March</th>\n      <th>Month_May</th>\n      <th>Month_November</th>\n      <th>Month_October</th>\n      <th>Month_September</th>\n      <th>NIBRS Crime Against_PROPERTY</th>\n      <th>NIBRS Crime Against_SOCIETY</th>\n    </tr>\n  </thead>\n  <tbody>\n    <tr>\n      <th>96126</th>\n      <td>0.123325</td>\n      <td>0.617997</td>\n      <td>-0.261545</td>\n      <td>0.952741</td>\n      <td>-1.220616</td>\n      <td>False</td>\n      <td>False</td>\n      <td>False</td>\n      <td>False</td>\n      <td>True</td>\n      <td>...</td>\n      <td>False</td>\n      <td>False</td>\n      <td>False</td>\n      <td>False</td>\n      <td>False</td>\n      <td>False</td>\n      <td>False</td>\n      <td>False</td>\n      <td>True</td>\n      <td>False</td>\n    </tr>\n    <tr>\n      <th>96127</th>\n      <td>0.123325</td>\n      <td>0.566495</td>\n      <td>-1.255380</td>\n      <td>0.766226</td>\n      <td>-0.929219</td>\n      <td>False</td>\n      <td>False</td>\n      <td>False</td>\n      <td>False</td>\n      <td>True</td>\n      <td>...</td>\n      <td>False</td>\n      <td>False</td>\n      <td>False</td>\n      <td>False</td>\n      <td>False</td>\n      <td>False</td>\n      <td>False</td>\n      <td>False</td>\n      <td>True</td>\n      <td>False</td>\n    </tr>\n    <tr>\n      <th>96128</th>\n      <td>0.123325</td>\n      <td>0.566495</td>\n      <td>-0.261545</td>\n      <td>0.699052</td>\n      <td>-1.280402</td>\n      <td>False</td>\n      <td>False</td>\n      <td>False</td>\n      <td>False</td>\n      <td>True</td>\n      <td>...</td>\n      <td>False</td>\n      <td>False</td>\n      <td>False</td>\n      <td>False</td>\n      <td>False</td>\n      <td>False</td>\n      <td>False</td>\n      <td>False</td>\n      <td>True</td>\n      <td>False</td>\n    </tr>\n    <tr>\n      <th>96129</th>\n      <td>0.123325</td>\n      <td>0.514994</td>\n      <td>-1.255380</td>\n      <td>0.267334</td>\n      <td>-1.076101</td>\n      <td>False</td>\n      <td>False</td>\n      <td>False</td>\n      <td>False</td>\n      <td>True</td>\n      <td>...</td>\n      <td>False</td>\n      <td>False</td>\n      <td>False</td>\n      <td>False</td>\n      <td>False</td>\n      <td>False</td>\n      <td>False</td>\n      <td>False</td>\n      <td>True</td>\n      <td>False</td>\n    </tr>\n    <tr>\n      <th>96130</th>\n      <td>0.123325</td>\n      <td>0.566495</td>\n      <td>-1.255380</td>\n      <td>0.406154</td>\n      <td>-0.700505</td>\n      <td>False</td>\n      <td>False</td>\n      <td>False</td>\n      <td>False</td>\n      <td>True</td>\n      <td>...</td>\n      <td>False</td>\n      <td>False</td>\n      <td>False</td>\n      <td>False</td>\n      <td>False</td>\n      <td>False</td>\n      <td>False</td>\n      <td>False</td>\n      <td>True</td>\n      <td>False</td>\n    </tr>\n  </tbody>\n</table>\n<p>5 rows × 26 columns</p>\n</div>"
     },
     "execution_count": 278,
     "metadata": {},
     "output_type": "execute_result"
    }
   ],
   "source": [
    "target = df_transform['high_risk']\n",
    "df_transform.tail()"
   ],
   "metadata": {
    "ExecuteTime": {
     "end_time": "2024-04-13T03:01:19.995161Z",
     "start_time": "2024-04-13T03:01:19.954966Z"
    }
   },
   "id": "03614268",
   "execution_count": 278
  },
  {
   "cell_type": "code",
   "outputs": [],
   "source": [
    "df_transform.drop(['high_risk'], axis=1, inplace=True)"
   ],
   "metadata": {
    "collapsed": false,
    "ExecuteTime": {
     "end_time": "2024-04-13T03:01:20.207252Z",
     "start_time": "2024-04-13T03:01:20.196350Z"
    }
   },
   "id": "b9f4292e7e7b213d",
   "execution_count": 279
  },
  {
   "cell_type": "code",
   "execution_count": 281,
   "id": "ee645516",
   "metadata": {
    "ExecuteTime": {
     "end_time": "2024-04-13T03:01:21.561409Z",
     "start_time": "2024-04-13T03:01:21.516278Z"
    }
   },
   "outputs": [],
   "source": [
    "X = df_transform\n",
    "y = target\n",
    "X_train,X_test,y_train,y_test=train_test_split(X, y, test_size=0.30, random_state=0)                                            \n",
    "max_k=10\n",
    "problem_type='classification'"
   ]
  },
  {
   "cell_type": "code",
   "execution_count": 282,
   "id": "ab80c606",
   "metadata": {
    "ExecuteTime": {
     "end_time": "2024-04-13T03:02:40.352679Z",
     "start_time": "2024-04-13T03:01:22.256266Z"
    }
   },
   "outputs": [
    {
     "data": {
      "text/plain": "<Figure size 1000x600 with 1 Axes>",
      "image/png": "[encoded data removed]"
     },
     "metadata": {},
     "output_type": "display_data"
    },
    {
     "name": "stdout",
     "output_type": "stream",
     "text": [
      "Best K Value: 1\n",
      "Confusion Matrix:\n",
      "[[21609  2477]\n",
      " [ 2595  2159]]\n",
      "\n",
      "Classification Report:\n",
      "              precision    recall  f1-score   support\n",
      "\n",
      "       False       0.89      0.90      0.89     24086\n",
      "        True       0.47      0.45      0.46      4754\n",
      "\n",
      "    accuracy                           0.82     28840\n",
      "   macro avg       0.68      0.68      0.68     28840\n",
      "weighted avg       0.82      0.82      0.82     28840\n"
     ]
    }
   ],
   "source": [
    "def knn(X_train, y_train, X_test, y_test, max_k=30, problem_type='classification'):\n",
    "    error_rate = []\n",
    "    best_k = 1\n",
    "    best_performance = np.inf if problem_type == 'regression' else -np.inf\n",
    "    \n",
    "    # model based on the problem type\n",
    "    ModelClass = KNeighborsClassifier if problem_type == 'classification' else KNeighborsRegressor\n",
    "    \n",
    "    # Loop over a range of k values to find the one with the best performance\n",
    "    for i in range(1, max_k):\n",
    "        knn = ModelClass(n_neighbors=i)\n",
    "        knn.fit(X_train, y_train)\n",
    "        pred_i = knn.predict(X_test)\n",
    "        \n",
    "        if problem_type == 'classification':\n",
    "            error = np.mean(pred_i != y_test)\n",
    "        else:  # regression\n",
    "            error = mean_squared_error(y_test, pred_i)\n",
    "        \n",
    "        error_rate.append(error)\n",
    "        \n",
    "        if (problem_type == 'classification' and error < best_performance) or (problem_type == 'regression' and error < best_performance):\n",
    "            best_performance = error\n",
    "            best_k = i\n",
    "            \n",
    "    # Plotting\n",
    "    plt.figure(figsize=(10,6))\n",
    "    plt.plot(range(1,max_k), error_rate, color='blue', linestyle='dashed', marker='o', markerfacecolor='red', markersize=9)\n",
    "    plt.title('Performance vs. K Value')\n",
    "    plt.xlabel('K')\n",
    "    if problem_type == 'classification':\n",
    "        plt.ylabel('Error Rate')\n",
    "    else:\n",
    "        plt.ylabel('Root Mean Squared Error')\n",
    "    plt.show()\n",
    "    \n",
    "    # Retrain and evaluate with the best k value\n",
    "    knn_best = ModelClass(n_neighbors=best_k)\n",
    "    knn_best.fit(X_train, y_train)\n",
    "    pred_best = knn_best.predict(X_test)\n",
    "    \n",
    "    print(f\"Best K Value: {best_k}\")\n",
    "    if problem_type == 'classification':\n",
    "        print(\"Confusion Matrix:\")\n",
    "        print(confusion_matrix(y_test, pred_best))\n",
    "        print(\"\\nClassification Report:\")\n",
    "        print(classification_report(y_test, pred_best))\n",
    "    else:\n",
    "        print(\"Root Mean Squared Error (RMSE):\", mean_squared_error(y_test, pred_best, squared=True))\n",
    "        print(\"R^2 Score:\", r2_score(y_test, pred_best))\n",
    "\n",
    "knn(X_train, y_train, X_test, y_test, max_k, problem_type)"
   ]
  },
  {
   "cell_type": "code",
   "execution_count": 283,
   "id": "922c900b18987c4a",
   "metadata": {
    "collapsed": false,
    "ExecuteTime": {
     "end_time": "2024-04-13T03:04:46.610174Z",
     "start_time": "2024-04-13T03:04:46.603418Z"
    }
   },
   "outputs": [
    {
     "data": {
      "text/plain": "['knn_model.joblib']"
     },
     "execution_count": 283,
     "metadata": {},
     "output_type": "execute_result"
    }
   ],
   "source": [
    "dump(knn, 'knn_model.joblib')"
   ]
  },
  {
   "cell_type": "code",
   "outputs": [],
   "source": [
    "df = df_copy\n",
    "cols = []\n",
    "kde = True\n",
    "figsize = (3, 3)\n",
    "cmap = 'viridis'\n",
    "# Outputs\n",
    "fig_path = 'hist_plot.png'"
   ],
   "metadata": {
    "collapsed": false
   },
   "id": "e97258628f3e8744",
   "execution_count": null
  },
  {
   "cell_type": "code",
   "outputs": [],
   "source": [
    "for col in df_copy.columns:\n",
    "    cols.append(col)\n",
    "    print(cols)"
   ],
   "metadata": {
    "collapsed": false
   },
   "id": "63392470f85f50d7",
   "execution_count": null
  },
  {
   "cell_type": "code",
   "outputs": [],
   "source": [
    "def create_histogram(df, cols, kde, figsize, cmap, fig_path):\n",
    "    sns.set(style=\"darkgrid\")\n",
    "    n_cols = len(cols)\n",
    "\n",
    "    cols_per_row = 4 \n",
    "    n_rows = n_cols // cols_per_row + (1 if n_cols % cols_per_row else 0)\n",
    "    total_figsize = (figsize[0] * min(n_cols, cols_per_row), figsize[1] * n_rows)\n",
    "    \n",
    "    fig, axs = plt.subplots(n_rows, min(n_cols, cols_per_row), figsize=total_figsize, squeeze=False)\n",
    "    \n",
    "    colormap = plt.colormaps[cmap]\n",
    "    \n",
    "    for ax, column, i in zip(axs.flat, cols, np.linspace(0, 1, len(cols))):\n",
    "        color = colormap(i)\n",
    "        sns.histplot(data=df, x=column, kde=kde, color=color, ax=ax)\n",
    "\n",
    "    plt.tight_layout()\n",
    "    plt.show()\n",
    "\n",
    "    plt.savefig(fig_path)    \n",
    "\n",
    "create_histogram(df, cols, kde, figsize, cmap, fig_path)"
   ],
   "metadata": {
    "collapsed": false
   },
   "id": "fb0fdd6fb980fdef",
   "execution_count": null
  },
  {
   "cell_type": "code",
   "execution_count": null,
   "id": "bb6684ec7dbe7e7d",
   "metadata": {
    "collapsed": false
   },
   "outputs": [],
   "source": [
    "df_copy['high_risk'] = (df['severity'] < 9).astype(int) \n",
    "\n",
    "# One-hot encode categorical variables\n",
    "df_transform = pd.get_dummies(df_copy, columns=['LocType','Division','Month', 'Day of the Week'], drop_first=True)"
   ]
  },
  {
   "cell_type": "code",
   "outputs": [],
   "source": [
    "df = df_transform\n",
    "features = []\n",
    "for cols in df_transform:\n",
    "    features.append(cols)\n",
    "print(features)"
   ],
   "metadata": {
    "collapsed": false
   },
   "id": "d1d060a162ee6c40",
   "execution_count": null
  },
  {
   "cell_type": "code",
   "outputs": [],
   "source": [
    "features.remove('NIBRS Crime Against')"
   ],
   "metadata": {
    "collapsed": false
   },
   "id": "64ad613a9052b7d4",
   "execution_count": null
  },
  {
   "cell_type": "code",
   "outputs": [],
   "source": [
    "def numeric_data(df, features):\n",
    "    \"\"\"\n",
    "    This function drops categorical data for quick analysis of the \n",
    "    selected numerical data, then scales the data into a new data frame.\n",
    "\n",
    "    Parameters:\n",
    "    - df (pandas.DataFrame): The input DataFrame.\n",
    "    - features (list): The selected numeric columns from a list.\n",
    "\n",
    "    Returns:\n",
    "    - A processed DataFrame with scaled numeric features.\n",
    "    \"\"\"\n",
    "    # Drop columns with object data type\n",
    "    object_columns = df.select_dtypes(include=['object']).columns\n",
    "    df_clean = df.drop(object_columns, axis=1)\n",
    "    \n",
    "    # Drop rows with NaN values\n",
    "    df_clean = df_clean.dropna()\n",
    "    \n",
    "    # Scale features\n",
    "    scaler = StandardScaler()\n",
    "    df_clean[features] = scaler.fit_transform(df_clean[features])\n",
    "    \n",
    "    return df_clean\n",
    "\n",
    "df_scaled = numeric_data(df, features)"
   ],
   "metadata": {
    "collapsed": false
   },
   "id": "60f314a3aefd4209",
   "execution_count": null
  },
  {
   "cell_type": "code",
   "outputs": [],
   "source": [
    "def logistic_regression(df):\n",
    "\n",
    "    \n",
    "    # Feature selection - here selecting all one-hot encoded features and numerical features as example\n",
    "    X = df.select_dtypes(include=['uint8', 'int64', 'float64']).drop('high_risk', axis=1)\n",
    "    y = df['high_risk']\n",
    "    \n",
    "    # Scaling the features (important for logistic regression)\n",
    "    scaler = StandardScaler()\n",
    "    X_scaled = scaler.fit_transform(X)\n",
    "    \n",
    "    # Splitting the dataset into training and test sets\n",
    "    X_train, X_test, y_train, y_test = train_test_split(X_scaled, y, test_size=0.20, random_state=42)\n",
    "    \n",
    "    # Creating and fitting the logistic regression model\n",
    "    model = LogisticRegression()\n",
    "    model.fit(X_train, y_train)\n",
    "    \n",
    "    # Making predictions\n",
    "    predictions = model.predict(X_test)\n",
    "    \n",
    "    # Evaluating the model\n",
    "    print(\"Confusion Matrix:\")\n",
    "    print(confusion_matrix(y_test, predictions))\n",
    "    print(\"\\nClassification Report:\")\n",
    "    print(classification_report(y_test, predictions))\n",
    "\n",
    "logistic_regression(df)"
   ],
   "metadata": {
    "collapsed": false
   },
   "id": "b173c3c68acc7cca",
   "execution_count": null
  },
  {
   "cell_type": "code",
   "outputs": [],
   "source": [],
   "metadata": {
    "collapsed": false
   },
   "id": "ecd6a7811a327abb"
  }
 ],
 "metadata": {
  "kernelspec": {
   "display_name": "Python 3 (ipykernel)",
   "language": "python",
   "name": "python3"
  },
  "language_info": {
   "codemirror_mode": {
    "name": "ipython",
    "version": 3
   },
   "file_extension": ".py",
   "mimetype": "text/x-python",
   "name": "python",
   "nbconvert_exporter": "python",
   "pygments_lexer": "ipython3",
   "version": "3.12.0"
  }
 },
 "nbformat": 4,
 "nbformat_minor": 5
}
